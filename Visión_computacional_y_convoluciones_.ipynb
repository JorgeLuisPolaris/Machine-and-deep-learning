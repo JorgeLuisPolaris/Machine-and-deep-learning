{
  "nbformat": 4,
  "nbformat_minor": 0,
  "metadata": {
    "colab": {
      "name": "Visión computacional y convoluciones.",
      "provenance": [],
      "collapsed_sections": [],
      "authorship_tag": "ABX9TyMkIrMMvLelmShednN2P+5g",
      "include_colab_link": true
    },
    "kernelspec": {
      "name": "python3",
      "display_name": "Python 3"
    }
  },
  "cells": [
    {
      "cell_type": "markdown",
      "metadata": {
        "id": "view-in-github",
        "colab_type": "text"
      },
      "source": [
        "<a href=\"https://colab.research.google.com/github/JorgeLuisPolaris/Machine-and-deep-learning/blob/main/Visi%C3%B3n_computacional_y_convoluciones_.ipynb\" target=\"_parent\"><img src=\"https://colab.research.google.com/assets/colab-badge.svg\" alt=\"Open In Colab\"/></a>"
      ]
    },
    {
      "cell_type": "markdown",
      "metadata": {
        "id": "Xdfi56mHmlkZ"
      },
      "source": [
        "# Mejora de la precisión de la red neuronal mediante convoluciones\r\n",
        "---\r\n",
        "Anteriormente las redes neuronales solo tenían 3 capas, la capa de entrada de datos, la capa de salida de datos y la capa intermedia o invisible.\r\n",
        "\r\n",
        "Se muestra el código obtenido previamente el cuál nos permite obtener las imagenes del data set MNIST, generar un modelo de una red neuronal de 3 capas, la compilación, entrenamiento y evaluacón de la misma."
      ]
    },
    {
      "cell_type": "code",
      "metadata": {
        "colab": {
          "base_uri": "https://localhost:8080/"
        },
        "id": "FjoJJuw9nOrU",
        "outputId": "e53dde67-dda0-46ad-9364-385cbd64ab7b"
      },
      "source": [
        "import tensorflow as tf\r\n",
        "mnist = tf.keras.datasets.fashion_mnist\r\n",
        "(training_images, training_labels), (test_images, test_labels) = mnist.load_data()\r\n",
        "training_images=training_images / 255.0\r\n",
        "test_images=test_images / 255.0\r\n",
        "model = tf.keras.models.Sequential([\r\n",
        "  tf.keras.layers.Flatten(),\r\n",
        "  tf.keras.layers.Dense(128, activation=tf.nn.relu),\r\n",
        "  tf.keras.layers.Dense(10, activation=tf.nn.softmax)\r\n",
        "])\r\n",
        "model.compile(optimizer='adam', loss='sparse_categorical_crossentropy', metrics=['accuracy'])\r\n",
        "model.fit(training_images, training_labels, epochs=5)\r\n",
        "\r\n",
        "test_loss = model.evaluate(test_images, test_labels)"
      ],
      "execution_count": null,
      "outputs": [
        {
          "output_type": "stream",
          "text": [
            "Downloading data from https://storage.googleapis.com/tensorflow/tf-keras-datasets/train-labels-idx1-ubyte.gz\n",
            "32768/29515 [=================================] - 0s 0us/step\n",
            "Downloading data from https://storage.googleapis.com/tensorflow/tf-keras-datasets/train-images-idx3-ubyte.gz\n",
            "26427392/26421880 [==============================] - 0s 0us/step\n",
            "Downloading data from https://storage.googleapis.com/tensorflow/tf-keras-datasets/t10k-labels-idx1-ubyte.gz\n",
            "8192/5148 [===============================================] - 0s 0us/step\n",
            "Downloading data from https://storage.googleapis.com/tensorflow/tf-keras-datasets/t10k-images-idx3-ubyte.gz\n",
            "4423680/4422102 [==============================] - 0s 0us/step\n",
            "Epoch 1/5\n",
            "1875/1875 [==============================] - 5s 2ms/step - loss: 0.6164 - accuracy: 0.7827\n",
            "Epoch 2/5\n",
            "1875/1875 [==============================] - 4s 2ms/step - loss: 0.3865 - accuracy: 0.8614\n",
            "Epoch 3/5\n",
            "1875/1875 [==============================] - 4s 2ms/step - loss: 0.3402 - accuracy: 0.8773\n",
            "Epoch 4/5\n",
            "1875/1875 [==============================] - 4s 2ms/step - loss: 0.3145 - accuracy: 0.8861\n",
            "Epoch 5/5\n",
            "1875/1875 [==============================] - 4s 2ms/step - loss: 0.2969 - accuracy: 0.8898\n",
            "313/313 [==============================] - 1s 1ms/step - loss: 0.3408 - accuracy: 0.8763\n"
          ],
          "name": "stdout"
        }
      ]
    },
    {
      "cell_type": "markdown",
      "metadata": {
        "id": "K7xHrZctOpnP"
      },
      "source": [
        "La presición es de alrededor de 89% en el set de entrenamiento y 87% en imagenes no antes vistas, lo cual no esta mal siendo que el entrenamiento tardo unos 5 segundos, pero esto puede ser mejorado utilizando convoluciones.\r\n",
        "\r\n",
        "Para simplificar lo que es una convulución diremos en resumen que se toma una matriz (generalmente 3x3 o 5x5) y se pasa sobre la imagen multiplicando los píxeles. Al cambiar los píxeles subyacentes según la fórmula dentro de esa matriz, puede hacer cosas como la detección de bordes, el resaltamiento de lineas verticales u horizontales, etc.\r\n",
        "\r\n",
        "Esto es perfecto para la visión computacional ya que a menudo son las características que pueden resaltarse de esta manera las que distinguen un elemento de otro, y la cantidad de información necesaria es mucho menor porque solo entrenará en las características resaltadas.\r\n",
        "\r\n",
        "Ese es el concepto de redes neuronales convolucionales. Se agregaran algunas capas para hacer la convolución antes de tener las capas densas, y luego la información que va a las capas densas está más enfocada y posiblemente más precisa."
      ]
    },
    {
      "cell_type": "code",
      "metadata": {
        "colab": {
          "base_uri": "https://localhost:8080/"
        },
        "id": "SFHR2ioFQHVw",
        "outputId": "5c40ce68-9273-4f69-9ffb-4be3d4c04b16"
      },
      "source": [
        "import tensorflow as tf\r\n",
        "print(tf.__version__)\r\n",
        "mnist = tf.keras.datasets.fashion_mnist\r\n",
        "(training_images, training_labels), (test_images, test_labels) = mnist.load_data()\r\n",
        "training_images=training_images.reshape(60000, 28, 28, 1)\r\n",
        "training_images=training_images / 255.0\r\n",
        "test_images = test_images.reshape(10000, 28, 28, 1)\r\n",
        "test_images=test_images/255.0\r\n",
        "model = tf.keras.models.Sequential([\r\n",
        "  tf.keras.layers.Conv2D(64, (3,3), activation='relu', input_shape=(28, 28, 1)),\r\n",
        "  tf.keras.layers.MaxPooling2D(2, 2),\r\n",
        "  tf.keras.layers.Conv2D(64, (3,3), activation='relu'),\r\n",
        "  tf.keras.layers.MaxPooling2D(2,2),\r\n",
        "  tf.keras.layers.Flatten(),\r\n",
        "  tf.keras.layers.Dense(128, activation='relu'),\r\n",
        "  tf.keras.layers.Dense(10, activation='softmax')\r\n",
        "])\r\n",
        "model.compile(optimizer='adam', loss='sparse_categorical_crossentropy', metrics=['accuracy'])\r\n",
        "model.summary()\r\n",
        "model.fit(training_images, training_labels, epochs=5)\r\n",
        "test_loss = model.evaluate(test_images, test_labels)\r\n"
      ],
      "execution_count": 1,
      "outputs": [
        {
          "output_type": "stream",
          "text": [
            "2.4.1\n",
            "Downloading data from https://storage.googleapis.com/tensorflow/tf-keras-datasets/train-labels-idx1-ubyte.gz\n",
            "32768/29515 [=================================] - 0s 0us/step\n",
            "Downloading data from https://storage.googleapis.com/tensorflow/tf-keras-datasets/train-images-idx3-ubyte.gz\n",
            "26427392/26421880 [==============================] - 0s 0us/step\n",
            "Downloading data from https://storage.googleapis.com/tensorflow/tf-keras-datasets/t10k-labels-idx1-ubyte.gz\n",
            "8192/5148 [===============================================] - 0s 0us/step\n",
            "Downloading data from https://storage.googleapis.com/tensorflow/tf-keras-datasets/t10k-images-idx3-ubyte.gz\n",
            "4423680/4422102 [==============================] - 0s 0us/step\n",
            "Model: \"sequential\"\n",
            "_________________________________________________________________\n",
            "Layer (type)                 Output Shape              Param #   \n",
            "=================================================================\n",
            "conv2d (Conv2D)              (None, 26, 26, 64)        640       \n",
            "_________________________________________________________________\n",
            "max_pooling2d (MaxPooling2D) (None, 13, 13, 64)        0         \n",
            "_________________________________________________________________\n",
            "conv2d_1 (Conv2D)            (None, 11, 11, 64)        36928     \n",
            "_________________________________________________________________\n",
            "max_pooling2d_1 (MaxPooling2 (None, 5, 5, 64)          0         \n",
            "_________________________________________________________________\n",
            "flatten (Flatten)            (None, 1600)              0         \n",
            "_________________________________________________________________\n",
            "dense (Dense)                (None, 128)               204928    \n",
            "_________________________________________________________________\n",
            "dense_1 (Dense)              (None, 10)                1290      \n",
            "=================================================================\n",
            "Total params: 243,786\n",
            "Trainable params: 243,786\n",
            "Non-trainable params: 0\n",
            "_________________________________________________________________\n",
            "Epoch 1/5\n",
            "1875/1875 [==============================] - 78s 41ms/step - loss: 0.6039 - accuracy: 0.7830\n",
            "Epoch 2/5\n",
            "1875/1875 [==============================] - 77s 41ms/step - loss: 0.3081 - accuracy: 0.8875\n",
            "Epoch 3/5\n",
            "1875/1875 [==============================] - 77s 41ms/step - loss: 0.2531 - accuracy: 0.9054\n",
            "Epoch 4/5\n",
            "1875/1875 [==============================] - 76s 41ms/step - loss: 0.2228 - accuracy: 0.9193\n",
            "Epoch 5/5\n",
            "1875/1875 [==============================] - 77s 41ms/step - loss: 0.1950 - accuracy: 0.9265\n",
            "313/313 [==============================] - 4s 11ms/step - loss: 0.2781 - accuracy: 0.9007\n"
          ],
          "name": "stdout"
        }
      ]
    },
    {
      "cell_type": "code",
      "metadata": {
        "id": "JjJhTmFTSl3x"
      },
      "source": [
        ""
      ],
      "execution_count": null,
      "outputs": []
    },
    {
      "cell_type": "markdown",
      "metadata": {
        "id": "V6VPU5yyQph3"
      },
      "source": [
        "El resultado mejoró a algo cercano a 93% en el entrenamiento y un 90% en los datos a validar, sin embargo el tiempo de entrenamiento también aumento, posteriormente se explicará el porque.\r\n",
        "\r\n",
        "Otra cosa interesante que se puede notar al correr este mismo código aumentando el número de épocas de entrenamiento es que la presición del entrenamiento puede parecer bastante bueno pero la validación disminuye su presición, esto se debe al sobreajuste.\r\n",
        "\r\n",
        "En pocas palabras, el 'sobreajuste' ocurre cuando la red aprende los datos del conjunto de entrenamiento realmente bien, pero es demasiado especializado para solo esos datos y, como resultado, es menos efectivo para ver otros datos.\r\n",
        "\r\n",
        "# Análisis del código de red neuronal convolucional\r\n",
        "#Paso 1. Recopilar los datos.\r\n",
        "---\r\n",
        "Existe un pequeño cambio en el sentido de que los datos de entrenamiento deben ser remodelados. Esto se debe a que la primera convolución espera un solo tensor que contenga todo, por lo que en lugar de 60.000 elementos de 28x28x1 en una lista, tenemos una única lista 4D que es de 60.000x28x28x1, y lo mismo para las imágenes de prueba. Si no lo hace, obtendrá un error durante el entrenamiento, ya que las convoluciones no reconocen la forma.\r\n"
      ]
    },
    {
      "cell_type": "code",
      "metadata": {
        "id": "4bfmfImPTvpS"
      },
      "source": [
        "import tensorflow as tf\r\n",
        "mnist = tf.keras.datasets.fashion_mnist\r\n",
        "(training_images, training_labels), (test_images, test_labels) = mnist.load_data()\r\n",
        "training_images=training_images.reshape(60000, 28, 28, 1)\r\n",
        "training_images=training_images / 255.0\r\n",
        "test_images = test_images.reshape(10000, 28, 28, 1)\r\n",
        "test_images=test_images/255.0"
      ],
      "execution_count": 6,
      "outputs": []
    },
    {
      "cell_type": "markdown",
      "metadata": {
        "id": "o0WnNK1gTwl3"
      },
      "source": [
        "# Paso 2. Definir el modelo\r\n",
        "---\r\n",
        "Ahora en lugar de poner la capa de ingreso de datos al inicio se añade una capa de convolución cuyos parametros son:\r\n",
        "\r\n",
        "*   El número de convoluciones que se quieren generar, esto es puramente arbitrario pero es recomendado usar algo del orden 32.\r\n",
        "*   El tamaño de la convolución, en este caso una cuadrícula de 3x3\r\n",
        "*   La función de activación a usar, en este caso se usa relu que como se ha visto anteriormente filtra los valores negativos.\r\n",
        "*   La forma de la información a ingresar.\r\n",
        "\r\n",
        "Seguida a la capa de convolución se tiene una capa de MaxPooling que está diseñada para comprimir la imagen, mientras mantiene el contenido de las características que fueron resaltadas por la convolución. Al especificar (2,2) para el MaxPooling, se obtiene una imagen de un cuarto del tamaño de la original. La idea es que cree una matriz de píxeles de 2x2 y elija el más grande, convirtiendo así 4 píxeles en 1. Este se proceso se repite hasta que se obtenga una imagen de 25% del tamaño original.\r\n",
        "\r\n",
        "Se puede llamar al método model.summary() para ver el tamaño y la forma de la red, y notará que después de cada capa de MaxPooling, el tamaño de la imagen se reduce de esta manera.\r\n",
        "\r\n",
        "\r\n",
        "\r\n"
      ]
    },
    {
      "cell_type": "code",
      "metadata": {
        "id": "KoWtbYxLYlvM"
      },
      "source": [
        "model = tf.keras.models.Sequential([\r\n",
        "  tf.keras.layers.Conv2D(32, (3,3), activation='relu', input_shape=(28, 28, 1)),\r\n",
        "  tf.keras.layers.MaxPooling2D(2, 2),\r\n",
        "  tf.keras.layers.Conv2D(64, (3,3), activation='relu'),\r\n",
        "  tf.keras.layers.MaxPooling2D(2,2),\r\n",
        "  tf.keras.layers.Flatten(),\r\n",
        "  tf.keras.layers.Dense(128, activation='relu'),\r\n",
        "  tf.keras.layers.Dense(10, activation='softmax')\r\n",
        "  ])"
      ],
      "execution_count": 7,
      "outputs": []
    },
    {
      "cell_type": "markdown",
      "metadata": {
        "id": "UD3CxMAMaH61"
      },
      "source": [
        "# Paso 3. Compilado y testeo el modelo.\r\n",
        "---\r\n",
        "\r\n",
        "Se llama el método compile() para compilar el modelo y el método fit para hacer el entrenamiento y finalmente el método evaluate() para hacer las pruebas del modelo.\r\n"
      ]
    },
    {
      "cell_type": "code",
      "metadata": {
        "colab": {
          "base_uri": "https://localhost:8080/"
        },
        "id": "gXldXJ25a70x",
        "outputId": "fc24b72a-41dc-49b7-d77b-d0ff01f8697f"
      },
      "source": [
        "model.compile(optimizer='adam', loss='sparse_categorical_crossentropy', metrics=['accuracy'])\r\n",
        "model.fit(training_images, training_labels, epochs=5)\r\n",
        "test_loss, test_acc = model.evaluate(test_images, test_labels)\r\n",
        "print(test_acc)"
      ],
      "execution_count": 8,
      "outputs": [
        {
          "output_type": "stream",
          "text": [
            "Epoch 1/5\n",
            "1875/1875 [==============================] - 50s 26ms/step - loss: 0.6186 - accuracy: 0.7781\n",
            "Epoch 2/5\n",
            "1875/1875 [==============================] - 49s 26ms/step - loss: 0.3076 - accuracy: 0.8884\n",
            "Epoch 3/5\n",
            "1875/1875 [==============================] - 49s 26ms/step - loss: 0.2547 - accuracy: 0.9060\n",
            "Epoch 4/5\n",
            "1875/1875 [==============================] - 49s 26ms/step - loss: 0.2208 - accuracy: 0.9162\n",
            "Epoch 5/5\n",
            "1875/1875 [==============================] - 49s 26ms/step - loss: 0.1981 - accuracy: 0.9277\n",
            "313/313 [==============================] - 3s 8ms/step - loss: 0.2550 - accuracy: 0.9071\n",
            "0.9071000218391418\n"
          ],
          "name": "stdout"
        }
      ]
    },
    {
      "cell_type": "markdown",
      "metadata": {
        "id": "v5RR58CQdONh"
      },
      "source": [
        "# Visualizando las convoluciones y el pooling.\r\n",
        "---\r\n",
        "\r\n",
        "El siguiente código mostrará las convoluciones gráficamente. La impresión (test_labels [: 100]) muestra las primeras 100 etiquetas en el conjunto de prueba, se puede ver que las del índice 0, el índice 23 y el índice 28 son todas del mismo valor (9). Todos son zapatos. Echemos un vistazo al resultado de ejecutar la convolución en cada uno, y comenzará a ver que surgen características comunes entre ellos. Ahora, cuando la DNN se está entrenando con esos datos, está trabajando con mucho menos, y tal vez esté encontrando algo en común entre los zapatos en función de esta combinación de convolución / pooling."
      ]
    },
    {
      "cell_type": "code",
      "metadata": {
        "colab": {
          "base_uri": "https://localhost:8080/"
        },
        "id": "ocX0zCT9dOve",
        "outputId": "9025f92b-9512-481b-8d09-ed0c9d1977b4"
      },
      "source": [
        "print(test_labels[:100])"
      ],
      "execution_count": 9,
      "outputs": [
        {
          "output_type": "stream",
          "text": [
            "[9 2 1 1 6 1 4 6 5 7 4 5 7 3 4 1 2 4 8 0 2 5 7 9 1 4 6 0 9 3 8 8 3 3 8 0 7\n",
            " 5 7 9 6 1 3 7 6 7 2 1 2 2 4 4 5 8 2 2 8 4 8 0 7 7 8 5 1 1 2 3 9 8 7 0 2 6\n",
            " 2 3 1 2 8 4 1 8 5 9 5 0 3 2 0 6 5 3 6 7 1 8 0 1 4 2]\n"
          ],
          "name": "stdout"
        }
      ]
    },
    {
      "cell_type": "code",
      "metadata": {
        "colab": {
          "base_uri": "https://localhost:8080/",
          "height": 268
        },
        "id": "p5XW52yReMTa",
        "outputId": "36b5388f-0435-4aa9-a317-48b39955969d"
      },
      "source": [
        "import matplotlib.pyplot as plt\r\n",
        "f, axarr = plt.subplots(3,4)\r\n",
        "FIRST_IMAGE=0\r\n",
        "SECOND_IMAGE=23\r\n",
        "THIRD_IMAGE=28\r\n",
        "CONVOLUTION_NUMBER = 1\r\n",
        "from tensorflow.keras import models\r\n",
        "layer_outputs = [layer.output for layer in model.layers]\r\n",
        "activation_model = tf.keras.models.Model(inputs = model.input, outputs = layer_outputs)\r\n",
        "for x in range(0,4):\r\n",
        "  f1 = activation_model.predict(test_images[FIRST_IMAGE].reshape(1, 28, 28, 1))[x]\r\n",
        "  axarr[0,x].imshow(f1[0, : , :, CONVOLUTION_NUMBER], cmap='inferno')\r\n",
        "  axarr[0,x].grid(False)\r\n",
        "  f2 = activation_model.predict(test_images[SECOND_IMAGE].reshape(1, 28, 28, 1))[x]\r\n",
        "  axarr[1,x].imshow(f2[0, : , :, CONVOLUTION_NUMBER], cmap='inferno')\r\n",
        "  axarr[1,x].grid(False)\r\n",
        "  f3 = activation_model.predict(test_images[THIRD_IMAGE].reshape(1, 28, 28, 1))[x]\r\n",
        "  axarr[2,x].imshow(f3[0, : , :, CONVOLUTION_NUMBER], cmap='inferno')\r\n",
        "  axarr[2,x].grid(False)"
      ],
      "execution_count": 11,
      "outputs": [
        {
          "output_type": "display_data",
          "data": {
            "image/png": "[encoded data removed]",
            "text/plain": [
              "<Figure size 432x288 with 12 Axes>"
            ]
          },
          "metadata": {
            "tags": [],
            "needs_background": "light"
          }
        }
      ]
    }
  ]
}